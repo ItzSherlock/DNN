{
  "cells": [
    {
      "attachments": {},
      "cell_type": "markdown",
      "metadata": {
        "id": "zFJTrgBQlrPY"
      },
      "source": [
        "#**Deep Neural Network**\n",
        "##**Implementation of Linear Regression with tensorflow.**\n",
        "\n",
        "---"
      ]
    },
    {
      "attachments": {},
      "cell_type": "markdown",
      "metadata": {
        "id": "9DzynBvtl5Uy"
      },
      "source": [
        "###**Name: - Gaurav Sonawane**\n",
        "\n",
        "###**PRN: - 20200802154**\n",
        "\n",
        "**BTech CSE**\n",
        "\n",
        "---"
      ]
    },
    {
      "cell_type": "code",
      "execution_count": 17,
      "metadata": {
        "id": "8AUD4s3ZlqmC"
      },
      "outputs": [],
      "source": [
        "#Import imp Libraries\n",
        "import numpy as np\n",
        "import matplotlib.pyplot as plt\n",
        "import tensorflow as tf"
      ]
    },
    {
      "cell_type": "code",
      "execution_count": 18,
      "metadata": {
        "id": "eWXPd_poIOK9"
      },
      "outputs": [],
      "source": [
        "# Learning Rate\n",
        "learning_rate = 0.01"
      ]
    },
    {
      "cell_type": "code",
      "execution_count": 19,
      "metadata": {
        "id": "zwOWfFGGIQKL"
      },
      "outputs": [],
      "source": [
        "# Numbers of loop for training through all your data to up[date the parameters\n",
        "training_epochs = 100"
      ]
    },
    {
      "cell_type": "code",
      "execution_count": 20,
      "metadata": {
        "id": "OhyaJ3XfISLa"
      },
      "outputs": [],
      "source": [
        "# The Training Dataset\n",
        "x_train = np.linspace(0,10,100)\n",
        "y_train = x_train + np.random.normal(0, 1, 100)"
      ]
    },
    {
      "cell_type": "code",
      "execution_count": 21,
      "metadata": {
        "colab": {
          "base_uri": "https://localhost:8080/",
          "height": 447
        },
        "id": "As7L6PkhIUN8",
        "outputId": "3f960329-496f-436f-c033-54c361be5495"
      },
      "outputs": [
        {
          "data": {
            "text/plain": [
              "<matplotlib.collections.PathCollection at 0x7f952e72b2e0>"
            ]
          },
          "execution_count": 21,
          "metadata": {},
          "output_type": "execute_result"
        },
        {
          "data": {
            "image/png": "[encoded data removed]",
            "text/plain": [
              "<Figure size 640x480 with 1 Axes>"
            ]
          },
          "metadata": {},
          "output_type": "display_data"
        }
      ],
      "source": [
        "# Plot of data\n",
        "plt.scatter(x_train,y_train)"
      ]
    },
    {
      "cell_type": "code",
      "execution_count": 22,
      "metadata": {
        "id": "e9Gh9C5eIWXW"
      },
      "outputs": [],
      "source": [
        "# Declare weight\n",
        "weight = tf.Variable(0.)\n",
        "bias = tf.Variable(0.)"
      ]
    },
    {
      "cell_type": "code",
      "execution_count": 23,
      "metadata": {
        "id": "BDqWKoLgIY1l"
      },
      "outputs": [],
      "source": [
        "# Define Linear Regression\n",
        "\n",
        "def line_reg(x):\n",
        "  y = weight*x + bias\n",
        "  return y"
      ]
    },
    {
      "cell_type": "code",
      "execution_count": 24,
      "metadata": {
        "id": "hMIRFCglIozX"
      },
      "outputs": [],
      "source": [
        " # Define loss function (MSE)\n",
        "def squared_error(y_pred, y_true): \n",
        "  return tf.reduce_mean(tf.square(y_pred - y_true))"
      ]
    },
    {
      "cell_type": "code",
      "execution_count": 25,
      "metadata": {
        "colab": {
          "base_uri": "https://localhost:8080/"
        },
        "id": "2RFVwJ6QJC2p",
        "outputId": "45e74b29-6fa8-4cbf-af1a-5b9c8a2d17be"
      },
      "outputs": [
        {
          "name": "stdout",
          "output_type": "stream",
          "text": [
            "Epoch count 99: Loss value: 34.01313400268555\n"
          ]
        }
      ],
      "source": [
        "# train model\n",
        "for epoch in range(training_epochs):\n",
        "\n",
        "# Compute loss within Gradient Tape context\n",
        "  with tf.GradientTape() as tape:\n",
        "    y_predicted = line_reg(x_train)\n",
        "    loss = squared_error(y_predicted, y_train)\n",
        "\n",
        "# Get gradients\n",
        "gradients = tape.gradient(loss, [weight,bias])\n",
        "\n",
        "# Adjust weights\n",
        "weight.assign_sub(gradients[0]*learning_rate)\n",
        "bias.assign_sub(gradients[1]*learning_rate)\n",
        "\n",
        "# Print output\n",
        "print(f\"Epoch count {epoch}: Loss value: {loss.numpy()}\")"
      ]
    },
    {
      "cell_type": "code",
      "execution_count": 26,
      "metadata": {
        "colab": {
          "base_uri": "https://localhost:8080/"
        },
        "id": "3RAjkA96JFgY",
        "outputId": "c335b8d5-3c8a-4c30-903e-65457f9448f7"
      },
      "outputs": [
        {
          "name": "stdout",
          "output_type": "stream",
          "text": [
            "0.6646843\n",
            "0.100334406\n"
          ]
        }
      ],
      "source": [
        "print(weight.numpy())\n",
        "print(bias.numpy())"
      ]
    },
    {
      "cell_type": "code",
      "execution_count": 27,
      "metadata": {
        "colab": {
          "base_uri": "https://localhost:8080/",
          "height": 430
        },
        "id": "rf531AF4JIJg",
        "outputId": "ff8f5d0b-aea0-47e8-e0bb-5f10b510e006"
      },
      "outputs": [
        {
          "data": {
            "image/png": "[encoded data removed]",
            "text/plain": [
              "<Figure size 640x480 with 1 Axes>"
            ]
          },
          "metadata": {},
          "output_type": "display_data"
        }
      ],
      "source": [
        "# Plot the best fit line\n",
        "plt.scatter(x_train, y_train)\n",
        "plt.plot(x_train, line_reg(x_train), 'r')\n",
        "plt.show()"
      ]
    }
  ],
  "metadata": {
    "colab": {
      "provenance": []
    },
    "kernelspec": {
      "display_name": "Python 3",
      "name": "python3"
    },
    "language_info": {
      "name": "python"
    }
  },
  "nbformat": 4,
  "nbformat_minor": 0
}
